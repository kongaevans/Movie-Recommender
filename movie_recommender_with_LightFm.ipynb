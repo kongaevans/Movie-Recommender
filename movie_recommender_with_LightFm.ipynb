{
 "cells": [
  {
   "cell_type": "markdown",
   "metadata": {},
   "source": [
    "Human beings are faced with lots dilemma when it comes to choosing their needs\n",
    "among many presented choices.\n",
    "\n",
    "And in business customers may be frustrated when selecting products to buy, Take for\n",
    "example Netflix MOVIES. Theere are lots of movies in which the customer may choose to\n",
    "watch. But the user may not know which movies he/she likes beforehand.\n",
    "\n",
    "The above problem can be solved by building a recommendation engine which srecommends user\n",
    "movies based on what he/she liked in the past or what other users liked. This saves user\n",
    "time and increases the sales.\n",
    "\n",
    "I am going to build a system that will recommend movies to the user based on user \n",
    "ratings using the LightFM library"
   ]
  },
  {
   "cell_type": "code",
   "execution_count": 3,
   "metadata": {},
   "outputs": [],
   "source": [
    "# Import libraries\n",
    "import pandas as pd\n",
    "import numpy as np\n",
    "import matplotlib.pyplot as plt\n",
    "from lightfm import LightFM\n",
    "from lightfm.datasets import fetch_movielens"
   ]
  },
  {
   "cell_type": "code",
   "execution_count": 4,
   "metadata": {},
   "outputs": [],
   "source": [
    "# load the data set with a minimum rating of 4\n",
    "data = fetch_movielens(min_rating=4.0)"
   ]
  },
  {
   "cell_type": "code",
   "execution_count": 5,
   "metadata": {},
   "outputs": [
    {
     "data": {
      "text/plain": [
       "(<943x1682 sparse matrix of type '<class 'numpy.int32'>'\n",
       " \twith 49906 stored elements in COOrdinate format>,\n",
       " <943x1682 sparse matrix of type '<class 'numpy.int32'>'\n",
       " \twith 5469 stored elements in COOrdinate format>,\n",
       " array(['Toy Story (1995)', 'GoldenEye (1995)', 'Four Rooms (1995)', ...,\n",
       "        'Sliding Doors (1998)', 'You So Crazy (1994)',\n",
       "        'Scream of Stone (Schrei aus Stein) (1991)'], dtype=object))"
      ]
     },
     "execution_count": 5,
     "metadata": {},
     "output_type": "execute_result"
    }
   ],
   "source": [
    "# inspect the dataset\n",
    "data['train'], data['test'], data['item_labels']"
   ]
  },
  {
   "cell_type": "code",
   "execution_count": 6,
   "metadata": {},
   "outputs": [],
   "source": [
    "# Create the model\n",
    "model = LightFM(loss = 'warp') # warp stands for Weighted Approximate- Rank pairwise - Helps create recommendation for each user by looking at existing user rating pairwise predicting ranking for each"
   ]
  },
  {
   "cell_type": "code",
   "execution_count": 7,
   "metadata": {},
   "outputs": [
    {
     "data": {
      "text/plain": [
       "<lightfm.lightfm.LightFM at 0x7f2182a95b00>"
      ]
     },
     "execution_count": 7,
     "metadata": {},
     "output_type": "execute_result"
    }
   ],
   "source": [
    "# Train the model\n",
    "model.fit(data['train'], epochs=30, num_threads=4)"
   ]
  },
  {
   "cell_type": "code",
   "execution_count": 8,
   "metadata": {},
   "outputs": [],
   "source": [
    "# writing a function that generates the recommendation\n",
    "def movie_recommender(model, data, user_ids):\n",
    "    \n",
    "    # number of users and movie in training data\n",
    "    n_users, n_items = data['train'].shape\n",
    "    \n",
    "    # Generating recommendation for each user we input\n",
    "    for user_id in user_ids:\n",
    "        \n",
    "        # movie the user already like\n",
    "        known_positives = data['item_labels'][data['train'].tocsr()[user_id].indices]\n",
    "        \n",
    "        # movie the model predicts they will like\n",
    "        scores =  model.predict(user_id, np.arange(n_items))\n",
    "        \n",
    "        # rank them in order of liked to least\n",
    "        top_items = data['item_labels'][np.argsort(-scores)]\n",
    "\n",
    "        \n",
    "        # print out the results\n",
    "        print(\"user %s\" % user_id)\n",
    "       \n",
    "        print(\"         known positives\")\n",
    "        for x in known_positives[:3]:\n",
    "            print(\"     %s\" % x)\n",
    "\n",
    "        print(\"         recommended\")\n",
    "        for x in scores[:3]:\n",
    "            print(\"     %s\" % x)      "
   ]
  },
  {
   "cell_type": "code",
   "execution_count": 9,
   "metadata": {},
   "outputs": [
    {
     "name": "stdout",
     "output_type": "stream",
     "text": [
      "user 2\n",
      "         known positives\n",
      "     Return of the Jedi (1983)\n",
      "     Event Horizon (1997)\n",
      "     Schindler's List (1993)\n",
      "         recommended\n",
      "     -1.0352228879928589\n",
      "     -2.284733772277832\n",
      "     -1.176231026649475\n",
      "user 50\n",
      "         known positives\n",
      "     Star Wars (1977)\n",
      "     Mr. Smith Goes to Washington (1939)\n",
      "     Die Hard (1988)\n",
      "         recommended\n",
      "     1.0686746835708618\n",
      "     -0.2144317775964737\n",
      "     -1.09445321559906\n",
      "user 230\n",
      "         known positives\n",
      "     Mr. Holland's Opus (1995)\n",
      "     Star Wars (1977)\n",
      "     Evita (1996)\n",
      "         recommended\n",
      "     1.520068883895874\n",
      "     -1.2173616886138916\n",
      "     -0.5804194808006287\n"
     ]
    }
   ],
   "source": [
    "# testing the model with three users\n",
    "movie_recommender(model, data, [2,50,230])"
   ]
  }
 ],
 "metadata": {
  "kernelspec": {
   "display_name": "Python 3",
   "language": "python",
   "name": "python3"
  },
  "language_info": {
   "codemirror_mode": {
    "name": "ipython",
    "version": 3
   },
   "file_extension": ".py",
   "mimetype": "text/x-python",
   "name": "python",
   "nbconvert_exporter": "python",
   "pygments_lexer": "ipython3",
   "version": "3.7.1"
  }
 },
 "nbformat": 4,
 "nbformat_minor": 2
}
